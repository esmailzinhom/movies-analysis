{
 "cells": [
  {
   "cell_type": "markdown",
   "metadata": {},
   "source": [
    "\n",
    "# Project: Movies\n",
    "\n",
    "## Table of Contents\n",
    "<ul>\n",
    "<li><a href=\"#intro\">Introduction</a></li>\n",
    "<li><a href=\"#wrangling\">Data Wrangling</a></li>\n",
    "<li><a href=\"#eda\">Exploratory Data Analysis</a></li>\n",
    "<li><a href=\"#conclusions\">Conclusions</a></li>\n",
    "</ul>"
   ]
  },
  {
   "cell_type": "markdown",
   "metadata": {},
   "source": [
    "<a id='intro'></a>\n",
    "## Introduction\n",
    "\n",
    "### Dataset Description \n",
    "\n",
    "This data set contains information about 10,000 movies collected from The Movie Database (TMDb), including user ratings and revenue. \n",
    "#### table columns\n",
    "\n",
    "- id\n",
    "- imdb_id \n",
    "- popularity\n",
    "- budget \n",
    "- revenue\n",
    "- original_title\n",
    "- cast\n",
    "- homepage \n",
    "- director\n",
    "- tagline\n",
    "- keywords\n",
    "- overview\n",
    "- runtime\n",
    "- genres\n",
    "- production_companies\n",
    "- release_date\n",
    "- vote_count\n",
    "- vote_average\n",
    "- release_year\n",
    "- budget_adj -> show the budget of the associated movie in terms of 2010 dollars\n",
    "- revenue_adj -> show the revenue of the associated movie in terms of 2010 dollars\n",
    "\n",
    "\n",
    "### Question(s) for Analysis\n",
    "\n",
    "- <a href=\"#Q1\">Q1: is there a relation between budget and revenue?</a>\n",
    "- <a href=\"#Q2\">Q2: is there a relation between average vote and revenue?</a>\n",
    "- <a href=\"#Q3\">Q3: is there a relation between budget and average vote?</a>\n",
    "- <a href=\"#Q14\">Q4: is there a relation between net profit and average vote?</a>\n",
    "- <a href=\"#Q4\">Q5: what is the best genres of films according to average vote?</a>\n",
    "- <a href=\"#Q5\">Q6: What is the best genres of films according to revenue?</a>\n",
    "- <a href=\"#Q6\">Q7: What is the best genres of films according to popularity?</a>\n",
    "- <a href=\"#Q7\">Q8: What is the best director of films according to average vote?</a>\n",
    "- <a href=\"#Q8\">Q9: What is the best director of films according to popularity?</a>\n",
    "- <a href=\"#Q9\">Q10: What is the best director of films according to revenue?</a>\n",
    "- <a href=\"#Q10\">Q11: Which genres are most popular in each year?</a>\n",
    "- <a href=\"#Q11\">Q12: What is the most profitable production company?</a>\n",
    "- <a href=\"#Q12\">Q13: what is the best actor of films according to average vote?</a>\n",
    "- <a href=\"#Q13\">Q14: what is the best actor of films according to revenue?</a>"
   ]
  },
  {
   "cell_type": "code",
   "execution_count": 1,
   "metadata": {},
   "outputs": [],
   "source": [
    "import numpy as np\n",
    "import pandas as pd\n",
    "import matplotlib.pyplot as plt\n",
    "import seaborn as sns\n",
    "import warnings; warnings.simplefilter('ignore')\n",
    "%matplotlib inline\n",
    "\n",
    "# this function to seperate columns with | seprator.\n",
    "def seperate(df_parameter,x):\n",
    "    df = df_parameter.copy()\n",
    "    df.drop(list(df.columns.drop([x,\"popularity\",\"vote_average\",\"release_year\",\"budget_adj\",\"revenue_adj\",\"net_profit\"])),axis=1,inplace = True)\n",
    "    df.dropna(inplace=True)\n",
    "    df1 = df[x]\n",
    "    df1 = df1.str.split(\"|\")\n",
    "    df1 = [item for sublist in df1 for item in sublist]\n",
    "    df1 =list(set(df1))\n",
    "    df2 = pd.DataFrame()\n",
    "    for y in df1:\n",
    "        try:\n",
    "            z = df[df[x].str.contains(y)]\n",
    "            z[x] = y\n",
    "            df2 = df2.append(z)\n",
    "        except:\n",
    "            continue\n",
    "    \n",
    "    df = df2.copy()\n",
    "    return df\n",
    "\n",
    "#### plot function\n",
    "def my_plot(x, y, xlabel, ylabel, title,kind):\n",
    "    fig = plt.figure(figsize=(25,15))\n",
    "    fig.subplots_adjust(top=0.8)\n",
    "    ax1 = fig.add_subplot(211)\n",
    "    ax1.set_ylabel(ylabel,fontsize = 14)\n",
    "    ax1.set_xlabel(xlabel,fontsize = 14)\n",
    "    ax1.set_title(title,fontsize=18,color=\"black\", style='italic')\n",
    "    sns.set_style(\"darkgrid\")\n",
    "    if kind == \"scatter\":\n",
    "        ax1.scatter(x,y);\n",
    "    elif kind == \"bar\":\n",
    "        ax1.bar(x,y);"
   ]
  },
  {
   "cell_type": "code",
   "execution_count": 2,
   "metadata": {},
   "outputs": [],
   "source": [
    "df = pd.read_csv(\"tmdb-movies.csv\")"
   ]
  },
  {
   "cell_type": "markdown",
   "metadata": {},
   "source": [
    "<a id='wrangling'></a>\n",
    "## Data Wrangling\n",
    "\n",
    "\n",
    "### General Properties\n",
    "I will perform some operation to find unuseful columns and cahnge datatype of some colmns to "
   ]
  },
  {
   "cell_type": "code",
   "execution_count": 3,
   "metadata": {},
   "outputs": [
    {
     "data": {
      "text/html": [
       "<div>\n",
       "<style scoped>\n",
       "    .dataframe tbody tr th:only-of-type {\n",
       "        vertical-align: middle;\n",
       "    }\n",
       "\n",
       "    .dataframe tbody tr th {\n",
       "        vertical-align: top;\n",
       "    }\n",
       "\n",
       "    .dataframe thead th {\n",
       "        text-align: right;\n",
       "    }\n",
       "</style>\n",
       "<table border=\"1\" class=\"dataframe\">\n",
       "  <thead>\n",
       "    <tr style=\"text-align: right;\">\n",
       "      <th></th>\n",
       "      <th>id</th>\n",
       "      <th>imdb_id</th>\n",
       "      <th>popularity</th>\n",
       "      <th>budget</th>\n",
       "      <th>revenue</th>\n",
       "      <th>original_title</th>\n",
       "      <th>cast</th>\n",
       "      <th>homepage</th>\n",
       "      <th>director</th>\n",
       "      <th>tagline</th>\n",
       "      <th>...</th>\n",
       "      <th>overview</th>\n",
       "      <th>runtime</th>\n",
       "      <th>genres</th>\n",
       "      <th>production_companies</th>\n",
       "      <th>release_date</th>\n",
       "      <th>vote_count</th>\n",
       "      <th>vote_average</th>\n",
       "      <th>release_year</th>\n",
       "      <th>budget_adj</th>\n",
       "      <th>revenue_adj</th>\n",
       "    </tr>\n",
       "  </thead>\n",
       "  <tbody>\n",
       "    <tr>\n",
       "      <th>0</th>\n",
       "      <td>135397</td>\n",
       "      <td>tt0369610</td>\n",
       "      <td>32.985763</td>\n",
       "      <td>150000000</td>\n",
       "      <td>1513528810</td>\n",
       "      <td>Jurassic World</td>\n",
       "      <td>Chris Pratt|Bryce Dallas Howard|Irrfan Khan|Vi...</td>\n",
       "      <td>http://www.jurassicworld.com/</td>\n",
       "      <td>Colin Trevorrow</td>\n",
       "      <td>The park is open.</td>\n",
       "      <td>...</td>\n",
       "      <td>Twenty-two years after the events of Jurassic ...</td>\n",
       "      <td>124</td>\n",
       "      <td>Action|Adventure|Science Fiction|Thriller</td>\n",
       "      <td>Universal Studios|Amblin Entertainment|Legenda...</td>\n",
       "      <td>6/9/15</td>\n",
       "      <td>5562</td>\n",
       "      <td>6.5</td>\n",
       "      <td>2015</td>\n",
       "      <td>1.379999e+08</td>\n",
       "      <td>1.392446e+09</td>\n",
       "    </tr>\n",
       "    <tr>\n",
       "      <th>1</th>\n",
       "      <td>76341</td>\n",
       "      <td>tt1392190</td>\n",
       "      <td>28.419936</td>\n",
       "      <td>150000000</td>\n",
       "      <td>378436354</td>\n",
       "      <td>Mad Max: Fury Road</td>\n",
       "      <td>Tom Hardy|Charlize Theron|Hugh Keays-Byrne|Nic...</td>\n",
       "      <td>http://www.madmaxmovie.com/</td>\n",
       "      <td>George Miller</td>\n",
       "      <td>What a Lovely Day.</td>\n",
       "      <td>...</td>\n",
       "      <td>An apocalyptic story set in the furthest reach...</td>\n",
       "      <td>120</td>\n",
       "      <td>Action|Adventure|Science Fiction|Thriller</td>\n",
       "      <td>Village Roadshow Pictures|Kennedy Miller Produ...</td>\n",
       "      <td>5/13/15</td>\n",
       "      <td>6185</td>\n",
       "      <td>7.1</td>\n",
       "      <td>2015</td>\n",
       "      <td>1.379999e+08</td>\n",
       "      <td>3.481613e+08</td>\n",
       "    </tr>\n",
       "  </tbody>\n",
       "</table>\n",
       "<p>2 rows × 21 columns</p>\n",
       "</div>"
      ],
      "text/plain": [
       "       id    imdb_id  popularity     budget     revenue      original_title  \\\n",
       "0  135397  tt0369610   32.985763  150000000  1513528810      Jurassic World   \n",
       "1   76341  tt1392190   28.419936  150000000   378436354  Mad Max: Fury Road   \n",
       "\n",
       "                                                cast  \\\n",
       "0  Chris Pratt|Bryce Dallas Howard|Irrfan Khan|Vi...   \n",
       "1  Tom Hardy|Charlize Theron|Hugh Keays-Byrne|Nic...   \n",
       "\n",
       "                        homepage         director             tagline  ...  \\\n",
       "0  http://www.jurassicworld.com/  Colin Trevorrow   The park is open.  ...   \n",
       "1    http://www.madmaxmovie.com/    George Miller  What a Lovely Day.  ...   \n",
       "\n",
       "                                            overview runtime  \\\n",
       "0  Twenty-two years after the events of Jurassic ...     124   \n",
       "1  An apocalyptic story set in the furthest reach...     120   \n",
       "\n",
       "                                      genres  \\\n",
       "0  Action|Adventure|Science Fiction|Thriller   \n",
       "1  Action|Adventure|Science Fiction|Thriller   \n",
       "\n",
       "                                production_companies release_date vote_count  \\\n",
       "0  Universal Studios|Amblin Entertainment|Legenda...       6/9/15       5562   \n",
       "1  Village Roadshow Pictures|Kennedy Miller Produ...      5/13/15       6185   \n",
       "\n",
       "   vote_average  release_year    budget_adj   revenue_adj  \n",
       "0           6.5          2015  1.379999e+08  1.392446e+09  \n",
       "1           7.1          2015  1.379999e+08  3.481613e+08  \n",
       "\n",
       "[2 rows x 21 columns]"
      ]
     },
     "execution_count": 3,
     "metadata": {},
     "output_type": "execute_result"
    }
   ],
   "source": [
    "df.head(2)"
   ]
  },
  {
   "cell_type": "markdown",
   "metadata": {},
   "source": [
    "> we need a column to save net profit."
   ]
  },
  {
   "cell_type": "code",
   "execution_count": 4,
   "metadata": {},
   "outputs": [
    {
     "name": "stdout",
     "output_type": "stream",
     "text": [
      "<class 'pandas.core.frame.DataFrame'>\n",
      "RangeIndex: 10866 entries, 0 to 10865\n",
      "Data columns (total 21 columns):\n",
      " #   Column                Non-Null Count  Dtype  \n",
      "---  ------                --------------  -----  \n",
      " 0   id                    10866 non-null  int64  \n",
      " 1   imdb_id               10856 non-null  object \n",
      " 2   popularity            10866 non-null  float64\n",
      " 3   budget                10866 non-null  int64  \n",
      " 4   revenue               10866 non-null  int64  \n",
      " 5   original_title        10866 non-null  object \n",
      " 6   cast                  10790 non-null  object \n",
      " 7   homepage              2936 non-null   object \n",
      " 8   director              10822 non-null  object \n",
      " 9   tagline               8042 non-null   object \n",
      " 10  keywords              9373 non-null   object \n",
      " 11  overview              10862 non-null  object \n",
      " 12  runtime               10866 non-null  int64  \n",
      " 13  genres                10843 non-null  object \n",
      " 14  production_companies  9836 non-null   object \n",
      " 15  release_date          10866 non-null  object \n",
      " 16  vote_count            10866 non-null  int64  \n",
      " 17  vote_average          10866 non-null  float64\n",
      " 18  release_year          10866 non-null  int64  \n",
      " 19  budget_adj            10866 non-null  float64\n",
      " 20  revenue_adj           10866 non-null  float64\n",
      "dtypes: float64(4), int64(6), object(11)\n",
      "memory usage: 1.7+ MB\n"
     ]
    }
   ],
   "source": [
    "df.info()"
   ]
  },
  {
   "cell_type": "code",
   "execution_count": 5,
   "metadata": {},
   "outputs": [
    {
     "data": {
      "text/plain": [
       "id                         0\n",
       "imdb_id                   10\n",
       "popularity                 0\n",
       "budget                     0\n",
       "revenue                    0\n",
       "original_title             0\n",
       "cast                      76\n",
       "homepage                7930\n",
       "director                  44\n",
       "tagline                 2824\n",
       "keywords                1493\n",
       "overview                   4\n",
       "runtime                    0\n",
       "genres                    23\n",
       "production_companies    1030\n",
       "release_date               0\n",
       "vote_count                 0\n",
       "vote_average               0\n",
       "release_year               0\n",
       "budget_adj                 0\n",
       "revenue_adj                0\n",
       "dtype: int64"
      ]
     },
     "execution_count": 5,
     "metadata": {},
     "output_type": "execute_result"
    }
   ],
   "source": [
    "df.isna().sum()"
   ]
  },
  {
   "cell_type": "markdown",
   "metadata": {},
   "source": [
    "> there is some Null values is some columns but this my effect on some caluculation but not effect on other calculations so we will seperate our data according to the questions we want to answer. "
   ]
  },
  {
   "cell_type": "code",
   "execution_count": 6,
   "metadata": {},
   "outputs": [
    {
     "data": {
      "text/plain": [
       "1"
      ]
     },
     "execution_count": 6,
     "metadata": {},
     "output_type": "execute_result"
    }
   ],
   "source": [
    "df.duplicated().sum()"
   ]
  },
  {
   "cell_type": "markdown",
   "metadata": {},
   "source": [
    "> there is one dublicated row."
   ]
  },
  {
   "cell_type": "code",
   "execution_count": 7,
   "metadata": {},
   "outputs": [
    {
     "data": {
      "text/plain": [
       "False"
      ]
     },
     "execution_count": 7,
     "metadata": {},
     "output_type": "execute_result"
    }
   ],
   "source": [
    "df_1 = df[df.budget_adj == 0]\n",
    "df_2 = df[df.budget == 0]\n",
    "False in list(df_1.id == df_2.id)"
   ]
  },
  {
   "cell_type": "code",
   "execution_count": 8,
   "metadata": {},
   "outputs": [
    {
     "data": {
      "text/plain": [
       "False"
      ]
     },
     "execution_count": 8,
     "metadata": {},
     "output_type": "execute_result"
    }
   ],
   "source": [
    "df_1 = df[df.revenue_adj == 0]\n",
    "df_2 = df[df.revenue == 0]\n",
    "False in list(df_1.id == df_2.id)"
   ]
  },
  {
   "cell_type": "markdown",
   "metadata": {},
   "source": [
    "> zero revenue and budget considered as null values so is some calculation we will neglect the rows with zero budget or revenue."
   ]
  },
  {
   "cell_type": "markdown",
   "metadata": {},
   "source": [
    "\n",
    "### Data Cleaning\n",
    ">Now we will drop all unuseful columns and dublicated rows."
   ]
  },
  {
   "cell_type": "code",
   "execution_count": 9,
   "metadata": {},
   "outputs": [
    {
     "data": {
      "text/html": [
       "<div>\n",
       "<style scoped>\n",
       "    .dataframe tbody tr th:only-of-type {\n",
       "        vertical-align: middle;\n",
       "    }\n",
       "\n",
       "    .dataframe tbody tr th {\n",
       "        vertical-align: top;\n",
       "    }\n",
       "\n",
       "    .dataframe thead th {\n",
       "        text-align: right;\n",
       "    }\n",
       "</style>\n",
       "<table border=\"1\" class=\"dataframe\">\n",
       "  <thead>\n",
       "    <tr style=\"text-align: right;\">\n",
       "      <th></th>\n",
       "      <th>popularity</th>\n",
       "      <th>original_title</th>\n",
       "      <th>cast</th>\n",
       "      <th>director</th>\n",
       "      <th>genres</th>\n",
       "      <th>production_companies</th>\n",
       "      <th>vote_average</th>\n",
       "      <th>release_year</th>\n",
       "      <th>budget_adj</th>\n",
       "      <th>revenue_adj</th>\n",
       "    </tr>\n",
       "  </thead>\n",
       "  <tbody>\n",
       "    <tr>\n",
       "      <th>0</th>\n",
       "      <td>32.985763</td>\n",
       "      <td>Jurassic World</td>\n",
       "      <td>Chris Pratt|Bryce Dallas Howard|Irrfan Khan|Vi...</td>\n",
       "      <td>Colin Trevorrow</td>\n",
       "      <td>Action|Adventure|Science Fiction|Thriller</td>\n",
       "      <td>Universal Studios|Amblin Entertainment|Legenda...</td>\n",
       "      <td>6.5</td>\n",
       "      <td>2015</td>\n",
       "      <td>1.379999e+08</td>\n",
       "      <td>1.392446e+09</td>\n",
       "    </tr>\n",
       "  </tbody>\n",
       "</table>\n",
       "</div>"
      ],
      "text/plain": [
       "   popularity  original_title  \\\n",
       "0   32.985763  Jurassic World   \n",
       "\n",
       "                                                cast         director  \\\n",
       "0  Chris Pratt|Bryce Dallas Howard|Irrfan Khan|Vi...  Colin Trevorrow   \n",
       "\n",
       "                                      genres  \\\n",
       "0  Action|Adventure|Science Fiction|Thriller   \n",
       "\n",
       "                                production_companies  vote_average  \\\n",
       "0  Universal Studios|Amblin Entertainment|Legenda...           6.5   \n",
       "\n",
       "   release_year    budget_adj   revenue_adj  \n",
       "0          2015  1.379999e+08  1.392446e+09  "
      ]
     },
     "execution_count": 9,
     "metadata": {},
     "output_type": "execute_result"
    }
   ],
   "source": [
    "df.drop_duplicates()\n",
    "df.drop([\"id\",'keywords','overview','release_date','vote_count',\"homepage\",\"tagline\",\"runtime\",'budget', \"revenue\",'imdb_id'],axis=1,inplace = True)\n",
    "df_main = df.copy()\n",
    "df_main.head(1)"
   ]
  },
  {
   "cell_type": "markdown",
   "metadata": {},
   "source": [
    "##### Add a column(net_profit) to calculate the Net Profit of each film = revenue_adj - budget_adj."
   ]
  },
  {
   "cell_type": "code",
   "execution_count": 10,
   "metadata": {},
   "outputs": [
    {
     "data": {
      "text/html": [
       "<div>\n",
       "<style scoped>\n",
       "    .dataframe tbody tr th:only-of-type {\n",
       "        vertical-align: middle;\n",
       "    }\n",
       "\n",
       "    .dataframe tbody tr th {\n",
       "        vertical-align: top;\n",
       "    }\n",
       "\n",
       "    .dataframe thead th {\n",
       "        text-align: right;\n",
       "    }\n",
       "</style>\n",
       "<table border=\"1\" class=\"dataframe\">\n",
       "  <thead>\n",
       "    <tr style=\"text-align: right;\">\n",
       "      <th></th>\n",
       "      <th>popularity</th>\n",
       "      <th>original_title</th>\n",
       "      <th>cast</th>\n",
       "      <th>director</th>\n",
       "      <th>genres</th>\n",
       "      <th>production_companies</th>\n",
       "      <th>vote_average</th>\n",
       "      <th>release_year</th>\n",
       "      <th>budget_adj</th>\n",
       "      <th>revenue_adj</th>\n",
       "      <th>net_profit</th>\n",
       "    </tr>\n",
       "  </thead>\n",
       "  <tbody>\n",
       "    <tr>\n",
       "      <th>0</th>\n",
       "      <td>32.985763</td>\n",
       "      <td>Jurassic World</td>\n",
       "      <td>Chris Pratt|Bryce Dallas Howard|Irrfan Khan|Vi...</td>\n",
       "      <td>Colin Trevorrow</td>\n",
       "      <td>Action|Adventure|Science Fiction|Thriller</td>\n",
       "      <td>Universal Studios|Amblin Entertainment|Legenda...</td>\n",
       "      <td>6.5</td>\n",
       "      <td>2015</td>\n",
       "      <td>1.379999e+08</td>\n",
       "      <td>1.392446e+09</td>\n",
       "      <td>1.254446e+09</td>\n",
       "    </tr>\n",
       "    <tr>\n",
       "      <th>1</th>\n",
       "      <td>28.419936</td>\n",
       "      <td>Mad Max: Fury Road</td>\n",
       "      <td>Tom Hardy|Charlize Theron|Hugh Keays-Byrne|Nic...</td>\n",
       "      <td>George Miller</td>\n",
       "      <td>Action|Adventure|Science Fiction|Thriller</td>\n",
       "      <td>Village Roadshow Pictures|Kennedy Miller Produ...</td>\n",
       "      <td>7.1</td>\n",
       "      <td>2015</td>\n",
       "      <td>1.379999e+08</td>\n",
       "      <td>3.481613e+08</td>\n",
       "      <td>2.101614e+08</td>\n",
       "    </tr>\n",
       "    <tr>\n",
       "      <th>2</th>\n",
       "      <td>13.112507</td>\n",
       "      <td>Insurgent</td>\n",
       "      <td>Shailene Woodley|Theo James|Kate Winslet|Ansel...</td>\n",
       "      <td>Robert Schwentke</td>\n",
       "      <td>Adventure|Science Fiction|Thriller</td>\n",
       "      <td>Summit Entertainment|Mandeville Films|Red Wago...</td>\n",
       "      <td>6.3</td>\n",
       "      <td>2015</td>\n",
       "      <td>1.012000e+08</td>\n",
       "      <td>2.716190e+08</td>\n",
       "      <td>1.704191e+08</td>\n",
       "    </tr>\n",
       "  </tbody>\n",
       "</table>\n",
       "</div>"
      ],
      "text/plain": [
       "   popularity      original_title  \\\n",
       "0   32.985763      Jurassic World   \n",
       "1   28.419936  Mad Max: Fury Road   \n",
       "2   13.112507           Insurgent   \n",
       "\n",
       "                                                cast          director  \\\n",
       "0  Chris Pratt|Bryce Dallas Howard|Irrfan Khan|Vi...   Colin Trevorrow   \n",
       "1  Tom Hardy|Charlize Theron|Hugh Keays-Byrne|Nic...     George Miller   \n",
       "2  Shailene Woodley|Theo James|Kate Winslet|Ansel...  Robert Schwentke   \n",
       "\n",
       "                                      genres  \\\n",
       "0  Action|Adventure|Science Fiction|Thriller   \n",
       "1  Action|Adventure|Science Fiction|Thriller   \n",
       "2         Adventure|Science Fiction|Thriller   \n",
       "\n",
       "                                production_companies  vote_average  \\\n",
       "0  Universal Studios|Amblin Entertainment|Legenda...           6.5   \n",
       "1  Village Roadshow Pictures|Kennedy Miller Produ...           7.1   \n",
       "2  Summit Entertainment|Mandeville Films|Red Wago...           6.3   \n",
       "\n",
       "   release_year    budget_adj   revenue_adj    net_profit  \n",
       "0          2015  1.379999e+08  1.392446e+09  1.254446e+09  \n",
       "1          2015  1.379999e+08  3.481613e+08  2.101614e+08  \n",
       "2          2015  1.012000e+08  2.716190e+08  1.704191e+08  "
      ]
     },
     "execution_count": 10,
     "metadata": {},
     "output_type": "execute_result"
    }
   ],
   "source": [
    "df_main[\"net_profit\"] =df_main.revenue_adj - df_main.budget_adj\n",
    "df_main.head(3)"
   ]
  },
  {
   "cell_type": "markdown",
   "metadata": {},
   "source": [
    "#### Now we want to seperate the director of each film to can calculate the statistics of each director individualy.\n",
    "> Note: some films were directed by more than one director."
   ]
  },
  {
   "cell_type": "code",
   "execution_count": 11,
   "metadata": {},
   "outputs": [
    {
     "data": {
      "text/html": [
       "<div>\n",
       "<style scoped>\n",
       "    .dataframe tbody tr th:only-of-type {\n",
       "        vertical-align: middle;\n",
       "    }\n",
       "\n",
       "    .dataframe tbody tr th {\n",
       "        vertical-align: top;\n",
       "    }\n",
       "\n",
       "    .dataframe thead th {\n",
       "        text-align: right;\n",
       "    }\n",
       "</style>\n",
       "<table border=\"1\" class=\"dataframe\">\n",
       "  <thead>\n",
       "    <tr style=\"text-align: right;\">\n",
       "      <th></th>\n",
       "      <th>popularity</th>\n",
       "      <th>director</th>\n",
       "      <th>vote_average</th>\n",
       "      <th>release_year</th>\n",
       "      <th>budget_adj</th>\n",
       "      <th>revenue_adj</th>\n",
       "      <th>net_profit</th>\n",
       "    </tr>\n",
       "  </thead>\n",
       "  <tbody>\n",
       "    <tr>\n",
       "      <th>710</th>\n",
       "      <td>1.840817</td>\n",
       "      <td>Frank Miller</td>\n",
       "      <td>6.2</td>\n",
       "      <td>2014</td>\n",
       "      <td>5.987092e+07</td>\n",
       "      <td>3.629800e+07</td>\n",
       "      <td>-2.357292e+07</td>\n",
       "    </tr>\n",
       "    <tr>\n",
       "      <th>3003</th>\n",
       "      <td>0.661730</td>\n",
       "      <td>Frank Miller</td>\n",
       "      <td>4.6</td>\n",
       "      <td>2008</td>\n",
       "      <td>6.076720e+07</td>\n",
       "      <td>3.953042e+07</td>\n",
       "      <td>-2.123678e+07</td>\n",
       "    </tr>\n",
       "    <tr>\n",
       "      <th>6194</th>\n",
       "      <td>3.520836</td>\n",
       "      <td>Frank Miller</td>\n",
       "      <td>7.1</td>\n",
       "      <td>2005</td>\n",
       "      <td>4.466253e+07</td>\n",
       "      <td>1.772364e+08</td>\n",
       "      <td>1.325738e+08</td>\n",
       "    </tr>\n",
       "    <tr>\n",
       "      <th>3121</th>\n",
       "      <td>0.361127</td>\n",
       "      <td>Jonathan Frakes</td>\n",
       "      <td>5.7</td>\n",
       "      <td>2008</td>\n",
       "      <td>0.000000e+00</td>\n",
       "      <td>0.000000e+00</td>\n",
       "      <td>0.000000e+00</td>\n",
       "    </tr>\n",
       "    <tr>\n",
       "      <th>4048</th>\n",
       "      <td>0.440499</td>\n",
       "      <td>Jonathan Frakes</td>\n",
       "      <td>4.5</td>\n",
       "      <td>2002</td>\n",
       "      <td>3.151880e+07</td>\n",
       "      <td>4.702760e+07</td>\n",
       "      <td>1.550880e+07</td>\n",
       "    </tr>\n",
       "    <tr>\n",
       "      <th>...</th>\n",
       "      <td>...</td>\n",
       "      <td>...</td>\n",
       "      <td>...</td>\n",
       "      <td>...</td>\n",
       "      <td>...</td>\n",
       "      <td>...</td>\n",
       "      <td>...</td>\n",
       "    </tr>\n",
       "    <tr>\n",
       "      <th>9504</th>\n",
       "      <td>0.402939</td>\n",
       "      <td>Thom Eberhardt</td>\n",
       "      <td>5.6</td>\n",
       "      <td>1988</td>\n",
       "      <td>0.000000e+00</td>\n",
       "      <td>0.000000e+00</td>\n",
       "      <td>0.000000e+00</td>\n",
       "    </tr>\n",
       "    <tr>\n",
       "      <th>7729</th>\n",
       "      <td>0.186365</td>\n",
       "      <td>Jan Sebastian Ballhaus</td>\n",
       "      <td>6.3</td>\n",
       "      <td>2007</td>\n",
       "      <td>1.156835e+07</td>\n",
       "      <td>0.000000e+00</td>\n",
       "      <td>-1.156835e+07</td>\n",
       "    </tr>\n",
       "    <tr>\n",
       "      <th>3679</th>\n",
       "      <td>0.348325</td>\n",
       "      <td>Lee Fulkerson</td>\n",
       "      <td>6.7</td>\n",
       "      <td>2011</td>\n",
       "      <td>0.000000e+00</td>\n",
       "      <td>6.444044e+05</td>\n",
       "      <td>6.444044e+05</td>\n",
       "    </tr>\n",
       "    <tr>\n",
       "      <th>10527</th>\n",
       "      <td>0.425424</td>\n",
       "      <td>Stephen King</td>\n",
       "      <td>5.4</td>\n",
       "      <td>1986</td>\n",
       "      <td>1.989406e+07</td>\n",
       "      <td>1.478858e+07</td>\n",
       "      <td>-5.105487e+06</td>\n",
       "    </tr>\n",
       "    <tr>\n",
       "      <th>1557</th>\n",
       "      <td>0.536552</td>\n",
       "      <td>Jon Harris</td>\n",
       "      <td>6.0</td>\n",
       "      <td>2009</td>\n",
       "      <td>0.000000e+00</td>\n",
       "      <td>0.000000e+00</td>\n",
       "      <td>0.000000e+00</td>\n",
       "    </tr>\n",
       "  </tbody>\n",
       "</table>\n",
       "<p>11930 rows × 7 columns</p>\n",
       "</div>"
      ],
      "text/plain": [
       "       popularity                director  vote_average  release_year  \\\n",
       "710      1.840817            Frank Miller           6.2          2014   \n",
       "3003     0.661730            Frank Miller           4.6          2008   \n",
       "6194     3.520836            Frank Miller           7.1          2005   \n",
       "3121     0.361127         Jonathan Frakes           5.7          2008   \n",
       "4048     0.440499         Jonathan Frakes           4.5          2002   \n",
       "...           ...                     ...           ...           ...   \n",
       "9504     0.402939          Thom Eberhardt           5.6          1988   \n",
       "7729     0.186365  Jan Sebastian Ballhaus           6.3          2007   \n",
       "3679     0.348325           Lee Fulkerson           6.7          2011   \n",
       "10527    0.425424            Stephen King           5.4          1986   \n",
       "1557     0.536552              Jon Harris           6.0          2009   \n",
       "\n",
       "         budget_adj   revenue_adj    net_profit  \n",
       "710    5.987092e+07  3.629800e+07 -2.357292e+07  \n",
       "3003   6.076720e+07  3.953042e+07 -2.123678e+07  \n",
       "6194   4.466253e+07  1.772364e+08  1.325738e+08  \n",
       "3121   0.000000e+00  0.000000e+00  0.000000e+00  \n",
       "4048   3.151880e+07  4.702760e+07  1.550880e+07  \n",
       "...             ...           ...           ...  \n",
       "9504   0.000000e+00  0.000000e+00  0.000000e+00  \n",
       "7729   1.156835e+07  0.000000e+00 -1.156835e+07  \n",
       "3679   0.000000e+00  6.444044e+05  6.444044e+05  \n",
       "10527  1.989406e+07  1.478858e+07 -5.105487e+06  \n",
       "1557   0.000000e+00  0.000000e+00  0.000000e+00  \n",
       "\n",
       "[11930 rows x 7 columns]"
      ]
     },
     "execution_count": 11,
     "metadata": {},
     "output_type": "execute_result"
    }
   ],
   "source": [
    "df_director = seperate(df_main,\"director\")\n",
    "df_director"
   ]
  },
  {
   "cell_type": "markdown",
   "metadata": {},
   "source": [
    "> Note: there are zero columns in some budget and revenue columns but we can't drop them because this will effect in statistics of vote_average columns."
   ]
  },
  {
   "cell_type": "markdown",
   "metadata": {},
   "source": [
    "##### Now we want to seperate the production companies of each film to can calculate the statistics of each company individualy."
   ]
  },
  {
   "cell_type": "code",
   "execution_count": 12,
   "metadata": {},
   "outputs": [
    {
     "data": {
      "text/html": [
       "<div>\n",
       "<style scoped>\n",
       "    .dataframe tbody tr th:only-of-type {\n",
       "        vertical-align: middle;\n",
       "    }\n",
       "\n",
       "    .dataframe tbody tr th {\n",
       "        vertical-align: top;\n",
       "    }\n",
       "\n",
       "    .dataframe thead th {\n",
       "        text-align: right;\n",
       "    }\n",
       "</style>\n",
       "<table border=\"1\" class=\"dataframe\">\n",
       "  <thead>\n",
       "    <tr style=\"text-align: right;\">\n",
       "      <th></th>\n",
       "      <th>popularity</th>\n",
       "      <th>production_companies</th>\n",
       "      <th>vote_average</th>\n",
       "      <th>release_year</th>\n",
       "      <th>budget_adj</th>\n",
       "      <th>revenue_adj</th>\n",
       "      <th>net_profit</th>\n",
       "    </tr>\n",
       "  </thead>\n",
       "  <tbody>\n",
       "    <tr>\n",
       "      <th>1332</th>\n",
       "      <td>1.179653</td>\n",
       "      <td>United Artists</td>\n",
       "      <td>7.6</td>\n",
       "      <td>1977</td>\n",
       "      <td>1.439112e+07</td>\n",
       "      <td>1.376203e+08</td>\n",
       "      <td>1.232291e+08</td>\n",
       "    </tr>\n",
       "    <tr>\n",
       "      <th>1346</th>\n",
       "      <td>0.434509</td>\n",
       "      <td>United Artists</td>\n",
       "      <td>5.6</td>\n",
       "      <td>1977</td>\n",
       "      <td>0.000000e+00</td>\n",
       "      <td>0.000000e+00</td>\n",
       "      <td>0.000000e+00</td>\n",
       "    </tr>\n",
       "    <tr>\n",
       "      <th>1687</th>\n",
       "      <td>0.333551</td>\n",
       "      <td>United Artists</td>\n",
       "      <td>5.3</td>\n",
       "      <td>2009</td>\n",
       "      <td>0.000000e+00</td>\n",
       "      <td>0.000000e+00</td>\n",
       "      <td>0.000000e+00</td>\n",
       "    </tr>\n",
       "    <tr>\n",
       "      <th>2011</th>\n",
       "      <td>0.944055</td>\n",
       "      <td>United Artists</td>\n",
       "      <td>5.9</td>\n",
       "      <td>2010</td>\n",
       "      <td>3.600000e+07</td>\n",
       "      <td>6.457226e+07</td>\n",
       "      <td>2.857226e+07</td>\n",
       "    </tr>\n",
       "    <tr>\n",
       "      <th>2490</th>\n",
       "      <td>0.508128</td>\n",
       "      <td>United Artists</td>\n",
       "      <td>6.7</td>\n",
       "      <td>1999</td>\n",
       "      <td>6.283454e+07</td>\n",
       "      <td>1.627221e+08</td>\n",
       "      <td>9.988751e+07</td>\n",
       "    </tr>\n",
       "    <tr>\n",
       "      <th>...</th>\n",
       "      <td>...</td>\n",
       "      <td>...</td>\n",
       "      <td>...</td>\n",
       "      <td>...</td>\n",
       "      <td>...</td>\n",
       "      <td>...</td>\n",
       "      <td>...</td>\n",
       "    </tr>\n",
       "    <tr>\n",
       "      <th>4300</th>\n",
       "      <td>0.291348</td>\n",
       "      <td>21st Century Film Corporation</td>\n",
       "      <td>4.3</td>\n",
       "      <td>1994</td>\n",
       "      <td>0.000000e+00</td>\n",
       "      <td>0.000000e+00</td>\n",
       "      <td>0.000000e+00</td>\n",
       "    </tr>\n",
       "    <tr>\n",
       "      <th>9237</th>\n",
       "      <td>0.396198</td>\n",
       "      <td>21st Century Film Corporation</td>\n",
       "      <td>5.5</td>\n",
       "      <td>1989</td>\n",
       "      <td>0.000000e+00</td>\n",
       "      <td>0.000000e+00</td>\n",
       "      <td>0.000000e+00</td>\n",
       "    </tr>\n",
       "    <tr>\n",
       "      <th>10015</th>\n",
       "      <td>0.512053</td>\n",
       "      <td>21st Century Film Corporation</td>\n",
       "      <td>4.7</td>\n",
       "      <td>1990</td>\n",
       "      <td>1.668899e+07</td>\n",
       "      <td>0.000000e+00</td>\n",
       "      <td>-1.668899e+07</td>\n",
       "    </tr>\n",
       "    <tr>\n",
       "      <th>10031</th>\n",
       "      <td>0.420470</td>\n",
       "      <td>21st Century Film Corporation</td>\n",
       "      <td>6.7</td>\n",
       "      <td>1990</td>\n",
       "      <td>7.009374e+06</td>\n",
       "      <td>9.738435e+06</td>\n",
       "      <td>2.729061e+06</td>\n",
       "    </tr>\n",
       "    <tr>\n",
       "      <th>1825</th>\n",
       "      <td>0.155519</td>\n",
       "      <td>Melee Entertainment</td>\n",
       "      <td>5.0</td>\n",
       "      <td>2009</td>\n",
       "      <td>0.000000e+00</td>\n",
       "      <td>0.000000e+00</td>\n",
       "      <td>0.000000e+00</td>\n",
       "    </tr>\n",
       "  </tbody>\n",
       "</table>\n",
       "<p>30858 rows × 7 columns</p>\n",
       "</div>"
      ],
      "text/plain": [
       "       popularity           production_companies  vote_average  release_year  \\\n",
       "1332     1.179653                 United Artists           7.6          1977   \n",
       "1346     0.434509                 United Artists           5.6          1977   \n",
       "1687     0.333551                 United Artists           5.3          2009   \n",
       "2011     0.944055                 United Artists           5.9          2010   \n",
       "2490     0.508128                 United Artists           6.7          1999   \n",
       "...           ...                            ...           ...           ...   \n",
       "4300     0.291348  21st Century Film Corporation           4.3          1994   \n",
       "9237     0.396198  21st Century Film Corporation           5.5          1989   \n",
       "10015    0.512053  21st Century Film Corporation           4.7          1990   \n",
       "10031    0.420470  21st Century Film Corporation           6.7          1990   \n",
       "1825     0.155519            Melee Entertainment           5.0          2009   \n",
       "\n",
       "         budget_adj   revenue_adj    net_profit  \n",
       "1332   1.439112e+07  1.376203e+08  1.232291e+08  \n",
       "1346   0.000000e+00  0.000000e+00  0.000000e+00  \n",
       "1687   0.000000e+00  0.000000e+00  0.000000e+00  \n",
       "2011   3.600000e+07  6.457226e+07  2.857226e+07  \n",
       "2490   6.283454e+07  1.627221e+08  9.988751e+07  \n",
       "...             ...           ...           ...  \n",
       "4300   0.000000e+00  0.000000e+00  0.000000e+00  \n",
       "9237   0.000000e+00  0.000000e+00  0.000000e+00  \n",
       "10015  1.668899e+07  0.000000e+00 -1.668899e+07  \n",
       "10031  7.009374e+06  9.738435e+06  2.729061e+06  \n",
       "1825   0.000000e+00  0.000000e+00  0.000000e+00  \n",
       "\n",
       "[30858 rows x 7 columns]"
      ]
     },
     "execution_count": 12,
     "metadata": {},
     "output_type": "execute_result"
    }
   ],
   "source": [
    "df_production = seperate(df_main,\"production_companies\")\n",
    "df_production"
   ]
  },
  {
   "cell_type": "code",
   "execution_count": 13,
   "metadata": {},
   "outputs": [
    {
     "data": {
      "text/plain": [
       "popularity              0\n",
       "production_companies    0\n",
       "vote_average            0\n",
       "release_year            0\n",
       "budget_adj              0\n",
       "revenue_adj             0\n",
       "net_profit              0\n",
       "dtype: int64"
      ]
     },
     "execution_count": 13,
     "metadata": {},
     "output_type": "execute_result"
    }
   ],
   "source": [
    "df_production.isna().sum()"
   ]
  },
  {
   "cell_type": "markdown",
   "metadata": {},
   "source": [
    "#### Now we want to seperate the revenue, pudget and (pudget, revenue) of each film to can calculate the statistics of each category individualy and drop unuseful columns for them."
   ]
  },
  {
   "cell_type": "code",
   "execution_count": 14,
   "metadata": {},
   "outputs": [],
   "source": [
    "df = df_main.copy()\n",
    "df_budget_revenue = df.drop(list(df.columns.drop([\"popularity\",\"vote_average\",\"revenue_adj\",'budget_adj',\"net_profit\"])),axis = 1)"
   ]
  },
  {
   "cell_type": "code",
   "execution_count": 15,
   "metadata": {},
   "outputs": [
    {
     "data": {
      "text/html": [
       "<div>\n",
       "<style scoped>\n",
       "    .dataframe tbody tr th:only-of-type {\n",
       "        vertical-align: middle;\n",
       "    }\n",
       "\n",
       "    .dataframe tbody tr th {\n",
       "        vertical-align: top;\n",
       "    }\n",
       "\n",
       "    .dataframe thead th {\n",
       "        text-align: right;\n",
       "    }\n",
       "</style>\n",
       "<table border=\"1\" class=\"dataframe\">\n",
       "  <thead>\n",
       "    <tr style=\"text-align: right;\">\n",
       "      <th></th>\n",
       "      <th>popularity</th>\n",
       "      <th>vote_average</th>\n",
       "      <th>budget_adj</th>\n",
       "      <th>revenue_adj</th>\n",
       "      <th>net_profit</th>\n",
       "    </tr>\n",
       "  </thead>\n",
       "  <tbody>\n",
       "    <tr>\n",
       "      <th>0</th>\n",
       "      <td>32.985763</td>\n",
       "      <td>6.5</td>\n",
       "      <td>1.379999e+08</td>\n",
       "      <td>1.392446e+09</td>\n",
       "      <td>1.254446e+09</td>\n",
       "    </tr>\n",
       "    <tr>\n",
       "      <th>1</th>\n",
       "      <td>28.419936</td>\n",
       "      <td>7.1</td>\n",
       "      <td>1.379999e+08</td>\n",
       "      <td>3.481613e+08</td>\n",
       "      <td>2.101614e+08</td>\n",
       "    </tr>\n",
       "  </tbody>\n",
       "</table>\n",
       "</div>"
      ],
      "text/plain": [
       "   popularity  vote_average    budget_adj   revenue_adj    net_profit\n",
       "0   32.985763           6.5  1.379999e+08  1.392446e+09  1.254446e+09\n",
       "1   28.419936           7.1  1.379999e+08  3.481613e+08  2.101614e+08"
      ]
     },
     "execution_count": 15,
     "metadata": {},
     "output_type": "execute_result"
    }
   ],
   "source": [
    "df_budget_revenue.head(2)"
   ]
  },
  {
   "cell_type": "markdown",
   "metadata": {},
   "source": [
    "##### Now we want to seperate the genres of films to can calculate the statistics of each genre individualy."
   ]
  },
  {
   "cell_type": "code",
   "execution_count": 16,
   "metadata": {},
   "outputs": [
    {
     "data": {
      "text/html": [
       "<div>\n",
       "<style scoped>\n",
       "    .dataframe tbody tr th:only-of-type {\n",
       "        vertical-align: middle;\n",
       "    }\n",
       "\n",
       "    .dataframe tbody tr th {\n",
       "        vertical-align: top;\n",
       "    }\n",
       "\n",
       "    .dataframe thead th {\n",
       "        text-align: right;\n",
       "    }\n",
       "</style>\n",
       "<table border=\"1\" class=\"dataframe\">\n",
       "  <thead>\n",
       "    <tr style=\"text-align: right;\">\n",
       "      <th></th>\n",
       "      <th>popularity</th>\n",
       "      <th>genres</th>\n",
       "      <th>vote_average</th>\n",
       "      <th>release_year</th>\n",
       "      <th>budget_adj</th>\n",
       "      <th>revenue_adj</th>\n",
       "      <th>net_profit</th>\n",
       "    </tr>\n",
       "  </thead>\n",
       "  <tbody>\n",
       "    <tr>\n",
       "      <th>19</th>\n",
       "      <td>5.476958</td>\n",
       "      <td>War</td>\n",
       "      <td>6.5</td>\n",
       "      <td>2015</td>\n",
       "      <td>1.471999e+08</td>\n",
       "      <td>5.984813e+08</td>\n",
       "      <td>4.512814e+08</td>\n",
       "    </tr>\n",
       "    <tr>\n",
       "      <th>70</th>\n",
       "      <td>2.295730</td>\n",
       "      <td>War</td>\n",
       "      <td>7.2</td>\n",
       "      <td>2015</td>\n",
       "      <td>1.195999e+07</td>\n",
       "      <td>3.022032e+07</td>\n",
       "      <td>1.826032e+07</td>\n",
       "    </tr>\n",
       "    <tr>\n",
       "      <th>172</th>\n",
       "      <td>0.874641</td>\n",
       "      <td>War</td>\n",
       "      <td>6.4</td>\n",
       "      <td>2015</td>\n",
       "      <td>0.000000e+00</td>\n",
       "      <td>1.213706e+07</td>\n",
       "      <td>1.213706e+07</td>\n",
       "    </tr>\n",
       "    <tr>\n",
       "      <th>180</th>\n",
       "      <td>0.829111</td>\n",
       "      <td>War</td>\n",
       "      <td>7.1</td>\n",
       "      <td>2015</td>\n",
       "      <td>1.839999e+07</td>\n",
       "      <td>5.906691e+06</td>\n",
       "      <td>-1.249330e+07</td>\n",
       "    </tr>\n",
       "    <tr>\n",
       "      <th>206</th>\n",
       "      <td>0.689579</td>\n",
       "      <td>War</td>\n",
       "      <td>5.1</td>\n",
       "      <td>2015</td>\n",
       "      <td>1.379999e+07</td>\n",
       "      <td>2.779010e+06</td>\n",
       "      <td>-1.102098e+07</td>\n",
       "    </tr>\n",
       "    <tr>\n",
       "      <th>...</th>\n",
       "      <td>...</td>\n",
       "      <td>...</td>\n",
       "      <td>...</td>\n",
       "      <td>...</td>\n",
       "      <td>...</td>\n",
       "      <td>...</td>\n",
       "      <td>...</td>\n",
       "    </tr>\n",
       "    <tr>\n",
       "      <th>10833</th>\n",
       "      <td>0.737730</td>\n",
       "      <td>Romance</td>\n",
       "      <td>7.3</td>\n",
       "      <td>1966</td>\n",
       "      <td>0.000000e+00</td>\n",
       "      <td>0.000000e+00</td>\n",
       "      <td>0.000000e+00</td>\n",
       "    </tr>\n",
       "    <tr>\n",
       "      <th>10835</th>\n",
       "      <td>0.299911</td>\n",
       "      <td>Romance</td>\n",
       "      <td>7.0</td>\n",
       "      <td>1966</td>\n",
       "      <td>8.061618e+07</td>\n",
       "      <td>1.343603e+08</td>\n",
       "      <td>5.374412e+07</td>\n",
       "    </tr>\n",
       "    <tr>\n",
       "      <th>10836</th>\n",
       "      <td>0.239435</td>\n",
       "      <td>Romance</td>\n",
       "      <td>5.8</td>\n",
       "      <td>1966</td>\n",
       "      <td>0.000000e+00</td>\n",
       "      <td>0.000000e+00</td>\n",
       "      <td>0.000000e+00</td>\n",
       "    </tr>\n",
       "    <tr>\n",
       "      <th>10853</th>\n",
       "      <td>0.163592</td>\n",
       "      <td>Romance</td>\n",
       "      <td>6.2</td>\n",
       "      <td>1966</td>\n",
       "      <td>0.000000e+00</td>\n",
       "      <td>0.000000e+00</td>\n",
       "      <td>0.000000e+00</td>\n",
       "    </tr>\n",
       "    <tr>\n",
       "      <th>10855</th>\n",
       "      <td>0.141026</td>\n",
       "      <td>Romance</td>\n",
       "      <td>6.1</td>\n",
       "      <td>1966</td>\n",
       "      <td>4.702610e+06</td>\n",
       "      <td>0.000000e+00</td>\n",
       "      <td>-4.702610e+06</td>\n",
       "    </tr>\n",
       "  </tbody>\n",
       "</table>\n",
       "<p>26960 rows × 7 columns</p>\n",
       "</div>"
      ],
      "text/plain": [
       "       popularity   genres  vote_average  release_year    budget_adj  \\\n",
       "19       5.476958      War           6.5          2015  1.471999e+08   \n",
       "70       2.295730      War           7.2          2015  1.195999e+07   \n",
       "172      0.874641      War           6.4          2015  0.000000e+00   \n",
       "180      0.829111      War           7.1          2015  1.839999e+07   \n",
       "206      0.689579      War           5.1          2015  1.379999e+07   \n",
       "...           ...      ...           ...           ...           ...   \n",
       "10833    0.737730  Romance           7.3          1966  0.000000e+00   \n",
       "10835    0.299911  Romance           7.0          1966  8.061618e+07   \n",
       "10836    0.239435  Romance           5.8          1966  0.000000e+00   \n",
       "10853    0.163592  Romance           6.2          1966  0.000000e+00   \n",
       "10855    0.141026  Romance           6.1          1966  4.702610e+06   \n",
       "\n",
       "        revenue_adj    net_profit  \n",
       "19     5.984813e+08  4.512814e+08  \n",
       "70     3.022032e+07  1.826032e+07  \n",
       "172    1.213706e+07  1.213706e+07  \n",
       "180    5.906691e+06 -1.249330e+07  \n",
       "206    2.779010e+06 -1.102098e+07  \n",
       "...             ...           ...  \n",
       "10833  0.000000e+00  0.000000e+00  \n",
       "10835  1.343603e+08  5.374412e+07  \n",
       "10836  0.000000e+00  0.000000e+00  \n",
       "10853  0.000000e+00  0.000000e+00  \n",
       "10855  0.000000e+00 -4.702610e+06  \n",
       "\n",
       "[26960 rows x 7 columns]"
      ]
     },
     "execution_count": 16,
     "metadata": {},
     "output_type": "execute_result"
    }
   ],
   "source": [
    "df_genres = seperate(df_main,\"genres\")\n",
    "df_genres"
   ]
  },
  {
   "cell_type": "markdown",
   "metadata": {},
   "source": [
    "##### Now we want to seperate the cast of each film to can calculate the statistics of each actor individualy."
   ]
  },
  {
   "cell_type": "code",
   "execution_count": 17,
   "metadata": {},
   "outputs": [
    {
     "data": {
      "text/html": [
       "<div>\n",
       "<style scoped>\n",
       "    .dataframe tbody tr th:only-of-type {\n",
       "        vertical-align: middle;\n",
       "    }\n",
       "\n",
       "    .dataframe tbody tr th {\n",
       "        vertical-align: top;\n",
       "    }\n",
       "\n",
       "    .dataframe thead th {\n",
       "        text-align: right;\n",
       "    }\n",
       "</style>\n",
       "<table border=\"1\" class=\"dataframe\">\n",
       "  <thead>\n",
       "    <tr style=\"text-align: right;\">\n",
       "      <th></th>\n",
       "      <th>popularity</th>\n",
       "      <th>cast</th>\n",
       "      <th>vote_average</th>\n",
       "      <th>release_year</th>\n",
       "      <th>budget_adj</th>\n",
       "      <th>revenue_adj</th>\n",
       "      <th>net_profit</th>\n",
       "    </tr>\n",
       "  </thead>\n",
       "  <tbody>\n",
       "    <tr>\n",
       "      <th>1039</th>\n",
       "      <td>0.288035</td>\n",
       "      <td>Adelaide Kane</td>\n",
       "      <td>7.4</td>\n",
       "      <td>2014</td>\n",
       "      <td>0.000000e+00</td>\n",
       "      <td>0.000000e+00</td>\n",
       "      <td>0.000000e+00</td>\n",
       "    </tr>\n",
       "    <tr>\n",
       "      <th>1239</th>\n",
       "      <td>0.090297</td>\n",
       "      <td>Adelaide Kane</td>\n",
       "      <td>4.8</td>\n",
       "      <td>2014</td>\n",
       "      <td>6.447637e+06</td>\n",
       "      <td>0.000000e+00</td>\n",
       "      <td>-6.447637e+06</td>\n",
       "    </tr>\n",
       "    <tr>\n",
       "      <th>4819</th>\n",
       "      <td>0.146925</td>\n",
       "      <td>Adelaide Kane</td>\n",
       "      <td>3.6</td>\n",
       "      <td>2012</td>\n",
       "      <td>2.849233e+05</td>\n",
       "      <td>0.000000e+00</td>\n",
       "      <td>-2.849233e+05</td>\n",
       "    </tr>\n",
       "    <tr>\n",
       "      <th>5443</th>\n",
       "      <td>2.811403</td>\n",
       "      <td>Adelaide Kane</td>\n",
       "      <td>5.8</td>\n",
       "      <td>2013</td>\n",
       "      <td>2.808100e+06</td>\n",
       "      <td>8.361457e+07</td>\n",
       "      <td>8.080647e+07</td>\n",
       "    </tr>\n",
       "    <tr>\n",
       "      <th>5856</th>\n",
       "      <td>0.357926</td>\n",
       "      <td>Adelaide Kane</td>\n",
       "      <td>6.1</td>\n",
       "      <td>2013</td>\n",
       "      <td>0.000000e+00</td>\n",
       "      <td>0.000000e+00</td>\n",
       "      <td>0.000000e+00</td>\n",
       "    </tr>\n",
       "    <tr>\n",
       "      <th>...</th>\n",
       "      <td>...</td>\n",
       "      <td>...</td>\n",
       "      <td>...</td>\n",
       "      <td>...</td>\n",
       "      <td>...</td>\n",
       "      <td>...</td>\n",
       "      <td>...</td>\n",
       "    </tr>\n",
       "    <tr>\n",
       "      <th>1495</th>\n",
       "      <td>0.776493</td>\n",
       "      <td>Kevin Yon</td>\n",
       "      <td>5.0</td>\n",
       "      <td>2009</td>\n",
       "      <td>0.000000e+00</td>\n",
       "      <td>0.000000e+00</td>\n",
       "      <td>0.000000e+00</td>\n",
       "    </tr>\n",
       "    <tr>\n",
       "      <th>3829</th>\n",
       "      <td>0.140428</td>\n",
       "      <td>Guillaume Gouix</td>\n",
       "      <td>6.1</td>\n",
       "      <td>2011</td>\n",
       "      <td>0.000000e+00</td>\n",
       "      <td>0.000000e+00</td>\n",
       "      <td>0.000000e+00</td>\n",
       "    </tr>\n",
       "    <tr>\n",
       "      <th>5392</th>\n",
       "      <td>0.206863</td>\n",
       "      <td>Brent Hinkley</td>\n",
       "      <td>5.7</td>\n",
       "      <td>1997</td>\n",
       "      <td>5.026303e+07</td>\n",
       "      <td>8.805805e+06</td>\n",
       "      <td>-4.145723e+07</td>\n",
       "    </tr>\n",
       "    <tr>\n",
       "      <th>9169</th>\n",
       "      <td>0.109197</td>\n",
       "      <td>Christian Payton</td>\n",
       "      <td>6.7</td>\n",
       "      <td>1998</td>\n",
       "      <td>1.070156e+07</td>\n",
       "      <td>0.000000e+00</td>\n",
       "      <td>-1.070156e+07</td>\n",
       "    </tr>\n",
       "    <tr>\n",
       "      <th>7333</th>\n",
       "      <td>0.416288</td>\n",
       "      <td>David Copperfield</td>\n",
       "      <td>5.4</td>\n",
       "      <td>1980</td>\n",
       "      <td>9.261129e+06</td>\n",
       "      <td>0.000000e+00</td>\n",
       "      <td>-9.261129e+06</td>\n",
       "    </tr>\n",
       "  </tbody>\n",
       "</table>\n",
       "<p>53570 rows × 7 columns</p>\n",
       "</div>"
      ],
      "text/plain": [
       "      popularity               cast  vote_average  release_year    budget_adj  \\\n",
       "1039    0.288035      Adelaide Kane           7.4          2014  0.000000e+00   \n",
       "1239    0.090297      Adelaide Kane           4.8          2014  6.447637e+06   \n",
       "4819    0.146925      Adelaide Kane           3.6          2012  2.849233e+05   \n",
       "5443    2.811403      Adelaide Kane           5.8          2013  2.808100e+06   \n",
       "5856    0.357926      Adelaide Kane           6.1          2013  0.000000e+00   \n",
       "...          ...                ...           ...           ...           ...   \n",
       "1495    0.776493          Kevin Yon           5.0          2009  0.000000e+00   \n",
       "3829    0.140428    Guillaume Gouix           6.1          2011  0.000000e+00   \n",
       "5392    0.206863      Brent Hinkley           5.7          1997  5.026303e+07   \n",
       "9169    0.109197   Christian Payton           6.7          1998  1.070156e+07   \n",
       "7333    0.416288  David Copperfield           5.4          1980  9.261129e+06   \n",
       "\n",
       "       revenue_adj    net_profit  \n",
       "1039  0.000000e+00  0.000000e+00  \n",
       "1239  0.000000e+00 -6.447637e+06  \n",
       "4819  0.000000e+00 -2.849233e+05  \n",
       "5443  8.361457e+07  8.080647e+07  \n",
       "5856  0.000000e+00  0.000000e+00  \n",
       "...            ...           ...  \n",
       "1495  0.000000e+00  0.000000e+00  \n",
       "3829  0.000000e+00  0.000000e+00  \n",
       "5392  8.805805e+06 -4.145723e+07  \n",
       "9169  0.000000e+00 -1.070156e+07  \n",
       "7333  0.000000e+00 -9.261129e+06  \n",
       "\n",
       "[53570 rows x 7 columns]"
      ]
     },
     "execution_count": 17,
     "metadata": {},
     "output_type": "execute_result"
    }
   ],
   "source": [
    "df_cast = seperate(df_main,\"cast\")\n",
    "df_cast"
   ]
  },
  {
   "cell_type": "markdown",
   "metadata": {},
   "source": [
    "#### save seperated data to use them again if we want."
   ]
  },
  {
   "cell_type": "code",
   "execution_count": 18,
   "metadata": {},
   "outputs": [],
   "source": [
    "df_main.to_csv(\"main.csv\")\n",
    "df_production.to_csv('production.csv')\n",
    "df_cast.to_csv(\"cast.csv\")\n",
    "df_director.to_csv(\"director.csv\")\n",
    "df_genres.to_csv(\"genres.csv\")\n",
    "df_budget_revenue.to_csv(\"budget_revenue.csv\")"
   ]
  },
  {
   "cell_type": "markdown",
   "metadata": {},
   "source": [
    "<a id='eda'></a>\n",
    "## Exploratory Data Analysis\n",
    "\n",
    "\n"
   ]
  },
  {
   "cell_type": "code",
   "execution_count": 19,
   "metadata": {},
   "outputs": [
    {
     "name": "stdout",
     "output_type": "stream",
     "text": [
      "count    10866.000000\n",
      "mean         5.974922\n",
      "std          0.935142\n",
      "min          1.500000\n",
      "25%          5.400000\n",
      "50%          6.000000\n",
      "75%          6.600000\n",
      "max          9.200000\n",
      "Name: vote_average, dtype: float64\n"
     ]
    },
    {
     "data": {
      "image/png": "[encoded data removed]",
      "text/plain": [
       "<Figure size 360x360 with 1 Axes>"
      ]
     },
     "metadata": {
      "needs_background": "light"
     },
     "output_type": "display_data"
    }
   ],
   "source": [
    "df_budget_revenue.iloc[:,1].hist(figsize = (5,5));\n",
    "print(df_budget_revenue.iloc[:,1].describe())"
   ]
  },
  {
   "cell_type": "markdown",
   "metadata": {},
   "source": [
    "> Note: vot_average is approximate symmetrically distributed where most films has average vote from 5 to 6.5, and 50% from films has average rate less than 6."
   ]
  },
  {
   "cell_type": "code",
   "execution_count": 40,
   "metadata": {},
   "outputs": [
    {
     "name": "stdout",
     "output_type": "stream",
     "text": [
      "count    5.170000e+03\n",
      "mean     3.688774e+07\n",
      "std      4.195701e+07\n",
      "min      9.210911e-01\n",
      "25%      8.102293e+06\n",
      "50%      2.272271e+07\n",
      "75%      5.007483e+07\n",
      "max      4.250000e+08\n",
      "Name: budget_adj, dtype: float64\n"
     ]
    },
    {
     "data": {
      "image/png": "[encoded data removed]",
      "text/plain": [
       "<Figure size 360x360 with 1 Axes>"
      ]
     },
     "metadata": {},
     "output_type": "display_data"
    }
   ],
   "source": [
    "df = df_budget_revenue[df_budget_revenue.budget_adj!=0]\n",
    "df.iloc[:,2].hist(figsize = (5,5));\n",
    "print(df.iloc[:,2].describe())"
   ]
  },
  {
   "cell_type": "markdown",
   "metadata": {},
   "source": [
    ">Note: we neglect rows that has budget is 0 this is very important to get approximatly exist values."
   ]
  },
  {
   "cell_type": "code",
   "execution_count": 39,
   "metadata": {},
   "outputs": [
    {
     "name": "stdout",
     "output_type": "stream",
     "text": [
      "count    4.850000e+03\n",
      "mean     1.150774e+08\n",
      "std      1.988419e+08\n",
      "min      2.370705e+00\n",
      "25%      1.046262e+07\n",
      "50%      4.392749e+07\n",
      "75%      1.315644e+08\n",
      "max      2.827124e+09\n",
      "Name: revenue_adj, dtype: float64\n"
     ]
    },
    {
     "data": {
      "image/png": "[encoded data removed]",
      "text/plain": [
       "<Figure size 360x360 with 1 Axes>"
      ]
     },
     "metadata": {},
     "output_type": "display_data"
    }
   ],
   "source": [
    "df = df_budget_revenue[df_budget_revenue.revenue_adj!=0]\n",
    "df.iloc[:,3].hist(figsize = (5,5));\n",
    "print(df.iloc[:,3].describe())"
   ]
  },
  {
   "cell_type": "code",
   "execution_count": 38,
   "metadata": {},
   "outputs": [
    {
     "name": "stdout",
     "output_type": "stream",
     "text": [
      "count    3.855000e+03\n",
      "mean     9.279309e+07\n",
      "std      1.940562e+08\n",
      "min     -4.139124e+08\n",
      "25%     -1.507157e+06\n",
      "50%      2.736550e+07\n",
      "75%      1.074152e+08\n",
      "max      2.750137e+09\n",
      "Name: net_profit, dtype: float64\n"
     ]
    },
    {
     "data": {
      "image/png": "[encoded data removed]",
      "text/plain": [
       "<Figure size 360x360 with 1 Axes>"
      ]
     },
     "metadata": {},
     "output_type": "display_data"
    }
   ],
   "source": [
    "df = df_budget_revenue[df_budget_revenue.budget_adj!=0]\n",
    "df = df[df.revenue_adj!=0]\n",
    "df.iloc[:,4].hist(figsize = (5,5));\n",
    "print(df.iloc[:,4].describe())"
   ]
  },
  {
   "cell_type": "markdown",
   "metadata": {},
   "source": [
    "> #### Note: 25% of movies make losses."
   ]
  },
  {
   "cell_type": "markdown",
   "metadata": {},
   "source": [
    "<a id=\"Q1\"></a>\n",
    "### Q1: Is there a relation between budget and revenue(net profit)?"
   ]
  },
  {
   "cell_type": "code",
   "execution_count": 37,
   "metadata": {},
   "outputs": [
    {
     "data": {
      "image/png": "[encoded data removed]",
      "text/plain": [
       "<Figure size 1800x1080 with 1 Axes>"
      ]
     },
     "metadata": {},
     "output_type": "display_data"
    }
   ],
   "source": [
    "df = df_budget_revenue[df_budget_revenue.budget_adj!=0]\n",
    "df = df[df.revenue_adj!=0]\n",
    "my_plot(df.budget_adj,df.revenue_adj,\"budget\",\"revenue\",\"revenue & budget\",\"scatter\")"
   ]
  },
  {
   "cell_type": "markdown",
   "metadata": {},
   "source": [
    "> #### from gragh we can't said that there is clear relationship between budget and revenue."
   ]
  },
  {
   "cell_type": "markdown",
   "metadata": {},
   "source": [
    "<a id=\"Q2\"></a>\n",
    "### Q2: Is there a relation between average vote and revenue?"
   ]
  },
  {
   "cell_type": "code",
   "execution_count": 24,
   "metadata": {},
   "outputs": [
    {
     "data": {
      "image/png": "[encoded data removed]",
      "text/plain": [
       "<Figure size 1800x1080 with 1 Axes>"
      ]
     },
     "metadata": {},
     "output_type": "display_data"
    }
   ],
   "source": [
    "df = df_budget_revenue[df_budget_revenue.revenue_adj!=0]\n",
    "my_plot(df.vote_average,df.revenue_adj,\"vote_average\",\"revenue\",\"revenue & Voting\",\"scatter\")"
   ]
  },
  {
   "cell_type": "markdown",
   "metadata": {},
   "source": [
    "> #### from gragh we can said films with revenue more than 0.5le9 has average vote more than 5 but there are alot of  films with revenue less than 0.5le9 has also average rate lead to 8 so The relationship is not direct."
   ]
  },
  {
   "cell_type": "markdown",
   "metadata": {},
   "source": [
    "<a id=\"Q3\"></a>\n",
    "### Q3: Is there a relation between budget and average vote?"
   ]
  },
  {
   "cell_type": "code",
   "execution_count": 25,
   "metadata": {},
   "outputs": [
    {
     "data": {
      "image/png": "[encoded data removed]",
      "text/plain": [
       "<Figure size 1800x1080 with 1 Axes>"
      ]
     },
     "metadata": {},
     "output_type": "display_data"
    }
   ],
   "source": [
    "df_budget_revenue[df_budget_revenue.budget_adj!=0]\n",
    "my_plot(df.vote_average,df.budget_adj,\"vote_average\",\"budget\",\"budget & Voting\",\"scatter\")"
   ]
  },
  {
   "cell_type": "markdown",
   "metadata": {},
   "source": [
    "> #### from gragh we can't said that there is clear relationship between users vote and budget."
   ]
  },
  {
   "cell_type": "markdown",
   "metadata": {},
   "source": [
    "<a id=\"Q14\"></a>\n",
    "### Q4: Is there a relation between net profit and average vote?"
   ]
  },
  {
   "cell_type": "code",
   "execution_count": 26,
   "metadata": {},
   "outputs": [
    {
     "data": {
      "image/png": "[encoded data removed]",
      "text/plain": [
       "<Figure size 1800x1080 with 1 Axes>"
      ]
     },
     "metadata": {},
     "output_type": "display_data"
    }
   ],
   "source": [
    "df = df_budget_revenue[df_budget_revenue.budget_adj!=0]\n",
    "df = df[df.revenue_adj!=0]\n",
    "my_plot(df.vote_average,df.net_profit,\"vote average\",\"net profit\",\"Net_profit & Voting\",\"scatter\")"
   ]
  },
  {
   "cell_type": "markdown",
   "metadata": {},
   "source": [
    "> #### from graph we can said little number of films can not get any profits but has average vote more than half and the relation almost like the relation between revenue and vote average."
   ]
  },
  {
   "cell_type": "markdown",
   "metadata": {},
   "source": [
    "<a id=\"Q4\"></a>\n",
    "### Q5: What is the best genres of films according to average vote?"
   ]
  },
  {
   "cell_type": "code",
   "execution_count": 27,
   "metadata": {},
   "outputs": [
    {
     "data": {
      "image/png": "[encoded data removed]",
      "text/plain": [
       "<Figure size 1800x1080 with 1 Axes>"
      ]
     },
     "metadata": {},
     "output_type": "display_data"
    }
   ],
   "source": [
    "df = df_genres.groupby([\"genres\"]).mean()\n",
    "ave =list(df.iloc[:,1])\n",
    "gen =list(df.index)\n",
    "my_plot(gen,ave,\"genres\",\"vote average\",\"Genres according to vote\",\"bar\")"
   ]
  },
  {
   "cell_type": "markdown",
   "metadata": {},
   "source": [
    "> #### from bar chart the documentary genre has more average vote than other genres."
   ]
  },
  {
   "cell_type": "markdown",
   "metadata": {},
   "source": [
    "<a id=\"Q5\"></a>\n",
    "### Q6: what is the best genres of films according to net profit?"
   ]
  },
  {
   "cell_type": "code",
   "execution_count": 28,
   "metadata": {},
   "outputs": [
    {
     "data": {
      "image/png": "[encoded data removed]",
      "text/plain": [
       "<Figure size 1800x1080 with 1 Axes>"
      ]
     },
     "metadata": {},
     "output_type": "display_data"
    }
   ],
   "source": [
    "df = df_genres[df_genres.revenue_adj!=0]\n",
    "df = df[df.budget_adj !=0].groupby([\"genres\"]).mean()\n",
    "revenue =list(df.iloc[:,5])\n",
    "gen =list(df.index)\n",
    "my_plot(gen,revenue,\"genres\",\"revenue\",\"Genres according to revenue\",\"bar\")"
   ]
  },
  {
   "cell_type": "markdown",
   "metadata": {},
   "source": [
    "> #### Animation and Adventure films have more average revenues than others and although documentary genre has most average vote it has the second less profit."
   ]
  },
  {
   "cell_type": "markdown",
   "metadata": {},
   "source": [
    "<a id=\"Q6\"></a>\n",
    "### Q7: What is the best genres of films according to popularity?"
   ]
  },
  {
   "cell_type": "code",
   "execution_count": 29,
   "metadata": {},
   "outputs": [
    {
     "data": {
      "image/png": "[encoded data removed]",
      "text/plain": [
       "<Figure size 1800x1080 with 1 Axes>"
      ]
     },
     "metadata": {},
     "output_type": "display_data"
    }
   ],
   "source": [
    "df = df_genres[df_genres.popularity!=0].groupby([\"genres\"]).mean()\n",
    "popularity =list(df.iloc[:,0])\n",
    "gen =list(df.index)\n",
    "my_plot(gen,ave,\"gnres\",\"popularity\",\"Genres according to Popularity\",\"bar\")"
   ]
  },
  {
   "cell_type": "markdown",
   "metadata": {},
   "source": [
    "> #### Adventure genre are the most popular than others."
   ]
  },
  {
   "cell_type": "markdown",
   "metadata": {},
   "source": [
    "<a id=\"Q7\"></a>\n",
    "### Q8: What is the best director of films according to average vote?"
   ]
  },
  {
   "cell_type": "code",
   "execution_count": 30,
   "metadata": {},
   "outputs": [
    {
     "data": {
      "text/plain": [
       "director\n",
       "Mark Cousins    9.2\n",
       "Name: vote_average, dtype: float64"
      ]
     },
     "execution_count": 30,
     "metadata": {},
     "output_type": "execute_result"
    }
   ],
   "source": [
    "df1 = df_director.groupby(\"director\").mean()\n",
    "df1.iloc[:,1].sort_values().tail(1)"
   ]
  },
  {
   "cell_type": "markdown",
   "metadata": {},
   "source": [
    "> #### Mark Cousins films have the highest average vote from user."
   ]
  },
  {
   "cell_type": "markdown",
   "metadata": {},
   "source": [
    "<a id=\"Q8\"></a>\n",
    "### Q9: What is the best director of films according to popularity?"
   ]
  },
  {
   "cell_type": "code",
   "execution_count": 31,
   "metadata": {},
   "outputs": [
    {
     "data": {
      "text/plain": [
       "director\n",
       "Colin Trevorrow    16.696886\n",
       "Name: popularity, dtype: float64"
      ]
     },
     "execution_count": 31,
     "metadata": {},
     "output_type": "execute_result"
    }
   ],
   "source": [
    "df1 = df_director[df_director.popularity !=0].groupby(\"director\").mean()\n",
    "df1.iloc[:,0].sort_values().tail(1)"
   ]
  },
  {
   "cell_type": "markdown",
   "metadata": {},
   "source": [
    "> #### Colin Trevorrow's films are the most popularity."
   ]
  },
  {
   "cell_type": "markdown",
   "metadata": {},
   "source": [
    "<a id=\"Q9\"></a>\n",
    "### Q10: What is the best director of films according to net profit?"
   ]
  },
  {
   "cell_type": "code",
   "execution_count": 32,
   "metadata": {},
   "outputs": [
    {
     "data": {
      "text/plain": [
       "director\n",
       "Irwin Winkler    1.551568e+09\n",
       "Name: net_profit, dtype: float64"
      ]
     },
     "execution_count": 32,
     "metadata": {},
     "output_type": "execute_result"
    }
   ],
   "source": [
    "df1 = df_director[df_director.revenue_adj !=0]\n",
    "df1 = df1[df1.budget_adj !=0].groupby(\"director\").mean()\n",
    "df1.iloc[:,5].sort_values().tail(1)"
   ]
  },
  {
   "cell_type": "markdown",
   "metadata": {},
   "source": [
    "> #### Irwin Winkler's films has the most average revenue."
   ]
  },
  {
   "cell_type": "markdown",
   "metadata": {},
   "source": [
    "<a id=\"Q10\"></a>\n",
    "### Q11: Which genres are most popular in each year?"
   ]
  },
  {
   "cell_type": "code",
   "execution_count": 33,
   "metadata": {},
   "outputs": [
    {
     "data": {
      "text/html": [
       "<div>\n",
       "<style scoped>\n",
       "    .dataframe tbody tr th:only-of-type {\n",
       "        vertical-align: middle;\n",
       "    }\n",
       "\n",
       "    .dataframe tbody tr th {\n",
       "        vertical-align: top;\n",
       "    }\n",
       "\n",
       "    .dataframe thead th {\n",
       "        text-align: right;\n",
       "    }\n",
       "</style>\n",
       "<table border=\"1\" class=\"dataframe\">\n",
       "  <thead>\n",
       "    <tr style=\"text-align: right;\">\n",
       "      <th></th>\n",
       "      <th>year</th>\n",
       "      <th>popular_genre</th>\n",
       "    </tr>\n",
       "  </thead>\n",
       "  <tbody>\n",
       "    <tr>\n",
       "      <th>0</th>\n",
       "      <td>1961</td>\n",
       "      <td>Animation</td>\n",
       "    </tr>\n",
       "    <tr>\n",
       "      <th>1</th>\n",
       "      <td>1962</td>\n",
       "      <td>Adventure</td>\n",
       "    </tr>\n",
       "    <tr>\n",
       "      <th>2</th>\n",
       "      <td>1963</td>\n",
       "      <td>Animation</td>\n",
       "    </tr>\n",
       "    <tr>\n",
       "      <th>3</th>\n",
       "      <td>1964</td>\n",
       "      <td>War</td>\n",
       "    </tr>\n",
       "    <tr>\n",
       "      <th>4</th>\n",
       "      <td>1965</td>\n",
       "      <td>Music</td>\n",
       "    </tr>\n",
       "    <tr>\n",
       "      <th>5</th>\n",
       "      <td>1966</td>\n",
       "      <td>Animation</td>\n",
       "    </tr>\n",
       "    <tr>\n",
       "      <th>6</th>\n",
       "      <td>1967</td>\n",
       "      <td>Animation</td>\n",
       "    </tr>\n",
       "    <tr>\n",
       "      <th>7</th>\n",
       "      <td>1968</td>\n",
       "      <td>Mystery</td>\n",
       "    </tr>\n",
       "    <tr>\n",
       "      <th>8</th>\n",
       "      <td>1969</td>\n",
       "      <td>Crime</td>\n",
       "    </tr>\n",
       "    <tr>\n",
       "      <th>9</th>\n",
       "      <td>1970</td>\n",
       "      <td>Animation</td>\n",
       "    </tr>\n",
       "    <tr>\n",
       "      <th>10</th>\n",
       "      <td>1971</td>\n",
       "      <td>Fantasy</td>\n",
       "    </tr>\n",
       "    <tr>\n",
       "      <th>11</th>\n",
       "      <td>1972</td>\n",
       "      <td>Crime</td>\n",
       "    </tr>\n",
       "    <tr>\n",
       "      <th>12</th>\n",
       "      <td>1973</td>\n",
       "      <td>Animation</td>\n",
       "    </tr>\n",
       "    <tr>\n",
       "      <th>13</th>\n",
       "      <td>1974</td>\n",
       "      <td>Mystery</td>\n",
       "    </tr>\n",
       "    <tr>\n",
       "      <th>14</th>\n",
       "      <td>1975</td>\n",
       "      <td>Adventure</td>\n",
       "    </tr>\n",
       "    <tr>\n",
       "      <th>15</th>\n",
       "      <td>1976</td>\n",
       "      <td>Crime</td>\n",
       "    </tr>\n",
       "    <tr>\n",
       "      <th>16</th>\n",
       "      <td>1977</td>\n",
       "      <td>Action</td>\n",
       "    </tr>\n",
       "    <tr>\n",
       "      <th>17</th>\n",
       "      <td>1978</td>\n",
       "      <td>Music</td>\n",
       "    </tr>\n",
       "    <tr>\n",
       "      <th>18</th>\n",
       "      <td>1979</td>\n",
       "      <td>Action</td>\n",
       "    </tr>\n",
       "    <tr>\n",
       "      <th>19</th>\n",
       "      <td>1980</td>\n",
       "      <td>Science Fiction</td>\n",
       "    </tr>\n",
       "    <tr>\n",
       "      <th>20</th>\n",
       "      <td>1981</td>\n",
       "      <td>Adventure</td>\n",
       "    </tr>\n",
       "    <tr>\n",
       "      <th>21</th>\n",
       "      <td>1982</td>\n",
       "      <td>War</td>\n",
       "    </tr>\n",
       "    <tr>\n",
       "      <th>22</th>\n",
       "      <td>1983</td>\n",
       "      <td>Adventure</td>\n",
       "    </tr>\n",
       "    <tr>\n",
       "      <th>23</th>\n",
       "      <td>1984</td>\n",
       "      <td>Family</td>\n",
       "    </tr>\n",
       "    <tr>\n",
       "      <th>24</th>\n",
       "      <td>1985</td>\n",
       "      <td>Family</td>\n",
       "    </tr>\n",
       "    <tr>\n",
       "      <th>25</th>\n",
       "      <td>1986</td>\n",
       "      <td>Adventure</td>\n",
       "    </tr>\n",
       "    <tr>\n",
       "      <th>26</th>\n",
       "      <td>1987</td>\n",
       "      <td>History</td>\n",
       "    </tr>\n",
       "    <tr>\n",
       "      <th>27</th>\n",
       "      <td>1988</td>\n",
       "      <td>Action</td>\n",
       "    </tr>\n",
       "    <tr>\n",
       "      <th>28</th>\n",
       "      <td>1989</td>\n",
       "      <td>Animation</td>\n",
       "    </tr>\n",
       "    <tr>\n",
       "      <th>29</th>\n",
       "      <td>1990</td>\n",
       "      <td>Adventure</td>\n",
       "    </tr>\n",
       "    <tr>\n",
       "      <th>30</th>\n",
       "      <td>1991</td>\n",
       "      <td>Animation</td>\n",
       "    </tr>\n",
       "    <tr>\n",
       "      <th>31</th>\n",
       "      <td>1992</td>\n",
       "      <td>Animation</td>\n",
       "    </tr>\n",
       "    <tr>\n",
       "      <th>32</th>\n",
       "      <td>1993</td>\n",
       "      <td>Fantasy</td>\n",
       "    </tr>\n",
       "    <tr>\n",
       "      <th>33</th>\n",
       "      <td>1994</td>\n",
       "      <td>Crime</td>\n",
       "    </tr>\n",
       "    <tr>\n",
       "      <th>34</th>\n",
       "      <td>1995</td>\n",
       "      <td>Animation</td>\n",
       "    </tr>\n",
       "    <tr>\n",
       "      <th>35</th>\n",
       "      <td>1996</td>\n",
       "      <td>Crime</td>\n",
       "    </tr>\n",
       "    <tr>\n",
       "      <th>36</th>\n",
       "      <td>1997</td>\n",
       "      <td>Science Fiction</td>\n",
       "    </tr>\n",
       "    <tr>\n",
       "      <th>37</th>\n",
       "      <td>1998</td>\n",
       "      <td>War</td>\n",
       "    </tr>\n",
       "    <tr>\n",
       "      <th>38</th>\n",
       "      <td>1999</td>\n",
       "      <td>Adventure</td>\n",
       "    </tr>\n",
       "    <tr>\n",
       "      <th>39</th>\n",
       "      <td>2000</td>\n",
       "      <td>Adventure</td>\n",
       "    </tr>\n",
       "    <tr>\n",
       "      <th>40</th>\n",
       "      <td>2001</td>\n",
       "      <td>Fantasy</td>\n",
       "    </tr>\n",
       "    <tr>\n",
       "      <th>41</th>\n",
       "      <td>2002</td>\n",
       "      <td>Fantasy</td>\n",
       "    </tr>\n",
       "    <tr>\n",
       "      <th>42</th>\n",
       "      <td>2003</td>\n",
       "      <td>Fantasy</td>\n",
       "    </tr>\n",
       "    <tr>\n",
       "      <th>43</th>\n",
       "      <td>2004</td>\n",
       "      <td>Fantasy</td>\n",
       "    </tr>\n",
       "    <tr>\n",
       "      <th>44</th>\n",
       "      <td>2005</td>\n",
       "      <td>Fantasy</td>\n",
       "    </tr>\n",
       "    <tr>\n",
       "      <th>45</th>\n",
       "      <td>2006</td>\n",
       "      <td>Fantasy</td>\n",
       "    </tr>\n",
       "    <tr>\n",
       "      <th>46</th>\n",
       "      <td>2007</td>\n",
       "      <td>Fantasy</td>\n",
       "    </tr>\n",
       "    <tr>\n",
       "      <th>47</th>\n",
       "      <td>2008</td>\n",
       "      <td>Adventure</td>\n",
       "    </tr>\n",
       "    <tr>\n",
       "      <th>48</th>\n",
       "      <td>2009</td>\n",
       "      <td>Adventure</td>\n",
       "    </tr>\n",
       "    <tr>\n",
       "      <th>49</th>\n",
       "      <td>2010</td>\n",
       "      <td>Adventure</td>\n",
       "    </tr>\n",
       "    <tr>\n",
       "      <th>50</th>\n",
       "      <td>2011</td>\n",
       "      <td>Western</td>\n",
       "    </tr>\n",
       "    <tr>\n",
       "      <th>51</th>\n",
       "      <td>2012</td>\n",
       "      <td>Western</td>\n",
       "    </tr>\n",
       "    <tr>\n",
       "      <th>52</th>\n",
       "      <td>2013</td>\n",
       "      <td>Adventure</td>\n",
       "    </tr>\n",
       "    <tr>\n",
       "      <th>53</th>\n",
       "      <td>2014</td>\n",
       "      <td>Adventure</td>\n",
       "    </tr>\n",
       "    <tr>\n",
       "      <th>54</th>\n",
       "      <td>2015</td>\n",
       "      <td>Adventure</td>\n",
       "    </tr>\n",
       "  </tbody>\n",
       "</table>\n",
       "</div>"
      ],
      "text/plain": [
       "    year    popular_genre\n",
       "0   1961        Animation\n",
       "1   1962        Adventure\n",
       "2   1963        Animation\n",
       "3   1964              War\n",
       "4   1965            Music\n",
       "5   1966        Animation\n",
       "6   1967        Animation\n",
       "7   1968          Mystery\n",
       "8   1969            Crime\n",
       "9   1970        Animation\n",
       "10  1971          Fantasy\n",
       "11  1972            Crime\n",
       "12  1973        Animation\n",
       "13  1974          Mystery\n",
       "14  1975        Adventure\n",
       "15  1976            Crime\n",
       "16  1977           Action\n",
       "17  1978            Music\n",
       "18  1979           Action\n",
       "19  1980  Science Fiction\n",
       "20  1981        Adventure\n",
       "21  1982              War\n",
       "22  1983        Adventure\n",
       "23  1984           Family\n",
       "24  1985           Family\n",
       "25  1986        Adventure\n",
       "26  1987          History\n",
       "27  1988           Action\n",
       "28  1989        Animation\n",
       "29  1990        Adventure\n",
       "30  1991        Animation\n",
       "31  1992        Animation\n",
       "32  1993          Fantasy\n",
       "33  1994            Crime\n",
       "34  1995        Animation\n",
       "35  1996            Crime\n",
       "36  1997  Science Fiction\n",
       "37  1998              War\n",
       "38  1999        Adventure\n",
       "39  2000        Adventure\n",
       "40  2001          Fantasy\n",
       "41  2002          Fantasy\n",
       "42  2003          Fantasy\n",
       "43  2004          Fantasy\n",
       "44  2005          Fantasy\n",
       "45  2006          Fantasy\n",
       "46  2007          Fantasy\n",
       "47  2008        Adventure\n",
       "48  2009        Adventure\n",
       "49  2010        Adventure\n",
       "50  2011          Western\n",
       "51  2012          Western\n",
       "52  2013        Adventure\n",
       "53  2014        Adventure\n",
       "54  2015        Adventure"
      ]
     },
     "execution_count": 33,
     "metadata": {},
     "output_type": "execute_result"
    }
   ],
   "source": [
    "years = range(1961,2016)\n",
    "years = list(years)\n",
    "gen = []\n",
    "for year in years:\n",
    "    df1 = df_genres[df_genres.release_year == year]\n",
    "    df1 = df1.groupby(\"genres\").mean()\n",
    "    gen.append(df1.sort_values(\"popularity\").index[-1])\n",
    "df1 = pd.DataFrame(list(zip(years,gen)),columns=[\"year\",\"popular_genre\"])\n",
    "df1"
   ]
  },
  {
   "cell_type": "markdown",
   "metadata": {},
   "source": [
    "> #### the previous table show the most popular genre in each year. "
   ]
  },
  {
   "cell_type": "markdown",
   "metadata": {},
   "source": [
    "<a id=\"Q11\"></a>\n",
    "### Q12: What is the most profitable production company?"
   ]
  },
  {
   "cell_type": "code",
   "execution_count": 34,
   "metadata": {},
   "outputs": [
    {
     "data": {
      "text/plain": [
       "production_companies\n",
       "Universal        4.760498e+10\n",
       "Fox              5.206966e+10\n",
       "Entertainment    9.536683e+10\n",
       "Name: net_profit, dtype: float64"
      ]
     },
     "execution_count": 34,
     "metadata": {},
     "output_type": "execute_result"
    }
   ],
   "source": [
    "df_production.groupby(\"production_companies\").sum().iloc[:,5].sort_values().tail(3)"
   ]
  },
  {
   "cell_type": "markdown",
   "metadata": {},
   "source": [
    "> #### the most profitable production company is Entertainment."
   ]
  },
  {
   "cell_type": "markdown",
   "metadata": {},
   "source": [
    "<a id=\"Q12\"></a>\n",
    "### Q13: what is the best actor of films according to average vote?"
   ]
  },
  {
   "cell_type": "code",
   "execution_count": 35,
   "metadata": {},
   "outputs": [
    {
     "data": {
      "text/plain": [
       "cast\n",
       "Agnes de Mille    9.2\n",
       "Name: vote_average, dtype: float64"
      ]
     },
     "execution_count": 35,
     "metadata": {},
     "output_type": "execute_result"
    }
   ],
   "source": [
    "df_cast.groupby(\"cast\").mean().iloc[:,1].sort_values().tail(1)"
   ]
  },
  {
   "cell_type": "markdown",
   "metadata": {},
   "source": [
    "> #### Agnes de Mille's films  has the highest average rating from viewers."
   ]
  },
  {
   "cell_type": "markdown",
   "metadata": {},
   "source": [
    "<a id=\"Q13\"></a>\n",
    "### Q14: what is the best actor of films according to net profit?"
   ]
  },
  {
   "cell_type": "code",
   "execution_count": 36,
   "metadata": {},
   "outputs": [
    {
     "data": {
      "text/plain": [
       "cast\n",
       "Robert MacNaughton    1.767968e+09\n",
       "Name: net_profit, dtype: float64"
      ]
     },
     "execution_count": 36,
     "metadata": {},
     "output_type": "execute_result"
    }
   ],
   "source": [
    "df_cast.groupby(\"cast\").mean().iloc[:,5].sort_values().tail(1)"
   ]
  },
  {
   "cell_type": "markdown",
   "metadata": {},
   "source": [
    "> #### Robert MacNaughton's films has the highest net profit."
   ]
  },
  {
   "cell_type": "markdown",
   "metadata": {},
   "source": [
    "<a id='conclusions'></a>\n",
    "## Conclusions\n",
    "- We can say that some films can achieve mass success, but they cannot achieve financial gains, such as documentaries, but animated films can achieve financial and public gains and great fame, just like adventure films and others.\n",
    "- A large budget for films alone is not enough to achieve a large revenue.\n",
    "- Some films with a small budget may be more popular and profitable than others with a larger budget.\n",
    "\n",
    "#### data problems:\n",
    "- some columns containing special charachters that make problems when runing code and It may cause some data to be lost.\n",
    "- there are many rows with budget and revenue columns is zero this also make lost many of data to make my data clear.\n",
    "- in voting row i can't neglect zero vote so if there is no data about voting it mast be null not 0."
   ]
  }
 ],
 "metadata": {
  "kernelspec": {
   "display_name": "Python 3 (ipykernel)",
   "language": "python",
   "name": "python3"
  },
  "language_info": {
   "codemirror_mode": {
    "name": "ipython",
    "version": 3
   },
   "file_extension": ".py",
   "mimetype": "text/x-python",
   "name": "python",
   "nbconvert_exporter": "python",
   "pygments_lexer": "ipython3",
   "version": "3.9.7"
  }
 },
 "nbformat": 4,
 "nbformat_minor": 2
}
